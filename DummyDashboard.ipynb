{
 "cells": [
  {
   "cell_type": "code",
   "execution_count": 1,
   "id": "3f909fb6-53c9-4a0b-819b-c3752de73294",
   "metadata": {
    "extensions": {
     "jupyter_dashboards": {
      "version": 1,
      "views": {
       "grid_default": {},
       "report_default": {}
      }
     }
    }
   },
   "outputs": [],
   "source": [
    "import ipywidgets as widgets\n",
    "from ipywidgets import interact, interact_manual"
   ]
  },
  {
   "cell_type": "code",
   "execution_count": 2,
   "id": "168ed06a-0cd0-45d0-9e0d-7f8a91ae592d",
   "metadata": {
    "extensions": {
     "jupyter_dashboards": {
      "version": 1,
      "views": {
       "grid_default": {},
       "report_default": {}
      }
     }
    }
   },
   "outputs": [],
   "source": [
    "import pandas as pd\n",
    "import numpy as np\n",
    "import matplotlib.pyplot as plt\n",
    "import seaborn as sns"
   ]
  },
  {
   "cell_type": "code",
   "execution_count": 3,
   "id": "intended-giving",
   "metadata": {},
   "outputs": [
    {
     "data": {
      "application/vnd.jupyter.widget-view+json": {
       "model_id": "a50d3a8286d048efa0d24ea69e7f82a7",
       "version_major": 2,
       "version_minor": 0
      },
      "text/plain": [
       "IntSlider(value=7, continuous_update=False, description='Test:', max=10)"
      ]
     },
     "metadata": {},
     "output_type": "display_data"
    }
   ],
   "source": [
    "widgets.IntSlider(\n",
    "    value=7,\n",
    "    min=0,\n",
    "    max=10,\n",
    "    step=1,\n",
    "    description='Test:',\n",
    "    disabled=False,\n",
    "    continuous_update=False,\n",
    "    orientation='horizontal',\n",
    "    readout=True,\n",
    "    readout_format='d'\n",
    ")"
   ]
  },
  {
   "cell_type": "code",
   "execution_count": 4,
   "id": "c21f8d60-1358-4b0a-acbc-63231c64a93c",
   "metadata": {
    "extensions": {
     "jupyter_dashboards": {
      "version": 1,
      "views": {
       "grid_default": {},
       "report_default": {}
      }
     }
    }
   },
   "outputs": [],
   "source": [
    "data = {}"
   ]
  },
  {
   "cell_type": "code",
   "execution_count": 5,
   "id": "b9d150a9-5606-4110-b2e0-f51fbcc0e8c1",
   "metadata": {
    "extensions": {
     "jupyter_dashboards": {
      "version": 1,
      "views": {
       "grid_default": {},
       "report_default": {}
      }
     }
    }
   },
   "outputs": [
    {
     "data": {
      "text/html": [
       "<div>\n",
       "<style scoped>\n",
       "    .dataframe tbody tr th:only-of-type {\n",
       "        vertical-align: middle;\n",
       "    }\n",
       "\n",
       "    .dataframe tbody tr th {\n",
       "        vertical-align: top;\n",
       "    }\n",
       "\n",
       "    .dataframe thead th {\n",
       "        text-align: right;\n",
       "    }\n",
       "</style>\n",
       "<table border=\"1\" class=\"dataframe\">\n",
       "  <thead>\n",
       "    <tr style=\"text-align: right;\">\n",
       "      <th></th>\n",
       "      <th>Core</th>\n",
       "      <th>AxialPosition</th>\n",
       "      <th>Location</th>\n",
       "      <th>SpectralIndex</th>\n",
       "      <th>C/E - 1 [%] and Uncertainty</th>\n",
       "      <th>Exp. Uncertainty [%]</th>\n",
       "      <th>Library</th>\n",
       "    </tr>\n",
       "  </thead>\n",
       "  <tbody>\n",
       "    <tr>\n",
       "      <th>0</th>\n",
       "      <td>A</td>\n",
       "      <td>Core Midplane</td>\n",
       "      <td>Lead Assembly</td>\n",
       "      <td>F28/F25</td>\n",
       "      <td>0.80</td>\n",
       "      <td>2</td>\n",
       "      <td>JEFF-3.3</td>\n",
       "    </tr>\n",
       "    <tr>\n",
       "      <th>1</th>\n",
       "      <td>A</td>\n",
       "      <td>Core Midplane</td>\n",
       "      <td>Lead Assembly</td>\n",
       "      <td>F49/F25</td>\n",
       "      <td>0.85</td>\n",
       "      <td>2</td>\n",
       "      <td>JEFF-3.3</td>\n",
       "    </tr>\n",
       "    <tr>\n",
       "      <th>2</th>\n",
       "      <td>A</td>\n",
       "      <td>Core Midplane</td>\n",
       "      <td>Lead Assembly</td>\n",
       "      <td>F28/F25</td>\n",
       "      <td>0.90</td>\n",
       "      <td>2</td>\n",
       "      <td>ENDF/B-VIII.0</td>\n",
       "    </tr>\n",
       "    <tr>\n",
       "      <th>3</th>\n",
       "      <td>A</td>\n",
       "      <td>Core Midplane</td>\n",
       "      <td>Lead Assembly</td>\n",
       "      <td>F49/F25</td>\n",
       "      <td>0.95</td>\n",
       "      <td>2</td>\n",
       "      <td>ENDF/B-VIII.0</td>\n",
       "    </tr>\n",
       "    <tr>\n",
       "      <th>4</th>\n",
       "      <td>A</td>\n",
       "      <td>Core Midplane</td>\n",
       "      <td>Lead Assembly</td>\n",
       "      <td>F28/F25</td>\n",
       "      <td>0.05</td>\n",
       "      <td>2</td>\n",
       "      <td>JEFF-3.3 std.</td>\n",
       "    </tr>\n",
       "  </tbody>\n",
       "</table>\n",
       "</div>"
      ],
      "text/plain": [
       "  Core  AxialPosition       Location SpectralIndex  \\\n",
       "0    A  Core Midplane  Lead Assembly       F28/F25   \n",
       "1    A  Core Midplane  Lead Assembly       F49/F25   \n",
       "2    A  Core Midplane  Lead Assembly       F28/F25   \n",
       "3    A  Core Midplane  Lead Assembly       F49/F25   \n",
       "4    A  Core Midplane  Lead Assembly       F28/F25   \n",
       "\n",
       "   C/E - 1 [%] and Uncertainty  Exp. Uncertainty [%]        Library  \n",
       "0                         0.80                     2       JEFF-3.3  \n",
       "1                         0.85                     2       JEFF-3.3  \n",
       "2                         0.90                     2  ENDF/B-VIII.0  \n",
       "3                         0.95                     2  ENDF/B-VIII.0  \n",
       "4                         0.05                     2  JEFF-3.3 std.  "
      ]
     },
     "execution_count": 5,
     "metadata": {},
     "output_type": "execute_result"
    }
   ],
   "source": [
    "data_name = \"Dummy\"\n",
    "raw = pd.read_csv(f\"{data_name}.csv\", sep=';', encoding='latin1').dropna()\n",
    "raw.head()"
   ]
  },
  {
   "cell_type": "code",
   "execution_count": 6,
   "id": "38b3a34f-08ee-4930-8fe5-2e526d68be84",
   "metadata": {
    "extensions": {
     "jupyter_dashboards": {
      "version": 1,
      "views": {
       "grid_default": {},
       "report_default": {}
      }
     }
    }
   },
   "outputs": [],
   "source": [
    "data[\"All\"] = raw.copy()\n",
    "data['No_IPS'] = raw.copy()\n",
    "data['No_IPS'] = data['No_IPS'].query(\"not Location.str.startswith('IPS')\", engine=\"python\")\n",
    "data['No_IPS'] = data['No_IPS'].query(\"Location != 'Fuel Midrange-void'\", engine='python')"
   ]
  },
  {
   "cell_type": "markdown",
   "id": "48711687",
   "metadata": {},
   "source": [
    "## Plot functions"
   ]
  },
  {
   "cell_type": "code",
   "execution_count": 7,
   "id": "52221ab4",
   "metadata": {
    "extensions": {
     "jupyter_dashboards": {
      "version": 1,
      "views": {
       "grid_default": {},
       "report_default": {}
      }
     }
    }
   },
   "outputs": [],
   "source": [
    "def get_query(items):\n",
    "    query_str = \"\"\n",
    "#     query_str += \"Instrument == '\" + items['Instrument'] + \"' and \" if items[\"Instrument\"] is not None and items[\"Instrument\"] != 'all' else \"\"\n",
    "    query_str += \"Core == '\" + items['Core'] + \"' and \" if items[\"Core\"] is not None and items[\"Core\"] != 'all' else \"\"\n",
    "    query_str += \"AxialPosition == '\" + items['AxialPosition'] + \"' and \" if (items[\"AxialPosition\"] is not None and items[\"AxialPosition\"] != 'all') else \"\"\n",
    "    query_str += \"Location == '\" + items['Location'] + \"' and \" if items[\"Location\"] is not None and items[\"Location\"] != 'all' else \"\"\n",
    "#     query_str += \"Coordinates == '\" + items['Coordinates'] + \"' and \" if items[\"Coordinates\"] is not None and items[\"Coordinates\"] != 'all' else \"\"\n",
    "#     query_str += \"Material == '\" + items['Material'] + \"' and \" if items[\"Material\"] is not None and items[\"Material\"] != 'all' else \"\"\n",
    "    query_str += \"SpectralIndex == '\" + items['SpectralIndex'] + \"' and \" if items[\"SpectralIndex\"] is not None and items[\"SpectralIndex\"] != 'all' else \"\"\n",
    "    query_str += \"Library == '\" + items['Library'] + \"' and \" if items[\"Library\"] is not None and items[\"Library\"] != 'all' else \"\"\n",
    "#     query_str += \"Code == '\" + items['Code'] + \"' and \" if items[\"Code\"] is not None and items[\"Code\"] != 'all' else \"\"\n",
    "\n",
    "    return query_str[:-5]"
   ]
  },
  {
   "cell_type": "code",
   "execution_count": 8,
   "id": "3f3b1a18-f8f5-4599-9133-be15873d3c3a",
   "metadata": {
    "extensions": {
     "jupyter_dashboards": {
      "version": 1,
      "views": {
       "grid_default": {},
       "report_default": {}
      }
     }
    }
   },
   "outputs": [],
   "source": [
    "def get_order(hue):\n",
    "    match hue:\n",
    "        case 'Library':\n",
    "            hue_order = ['ENDF/B-VIII.0', 'ENDF/B-VIII.0 std.', 'JEFF-3.3', 'JEFF-3.3 std.', 'JENDL-4.0', 'JENDL-4.0 std.']\n",
    "        case 'Core':\n",
    "            hue_order = ['CR0/2011', 'CR0/2014', 'CC5', 'CC6', 'CC7', 'CC8', 'CC9', 'CC12', 'CC13']\n",
    "        case 'Instrument':\n",
    "            hue_order = ['FC', 'AF']\n",
    "        case 'AxialPosition':\n",
    "            hue_order = ['Core Midplane', 'Core Top', 'Top Reflector', 'Top Reflector Midplane'] # are the last 2 just the same but labelled differently in CC13 (AF/FC)?\n",
    "        case 'Coordinates':\n",
    "            hue_order = ['1,1', '2,1', '2,2', '1,-3', '-3,1', '3,3', '4,1', '-4,1', '-5,1', '2,-5', '1,-6']\n",
    "        case 'Location':\n",
    "            hue_order = ['Fuel Center', 'Fuel Midrange', 'Fuel Midrange-void', 'Fuel Periphery', 'Lead Assembly', 'Graphite Reflector', 'Top Reflector Center',\n",
    "                       'IPS-1', 'IPS-2', 'IPS-5', 'IPS-6', 'IPS-7', 'IPS-8']\n",
    "        case 'Material':\n",
    "            hue_order = ['U', 'Pb', 'C', 'PE', 'U+Al+PE+Cd', 'U+Al+air+Cd', 'Al+PE+Cd']\n",
    "        case 'SpectralIndex':\n",
    "            hue_order = [\"F24/F25\", \"F28/F25\", \"F37/F25\", \"F49/F25\", \"F40/F25\", \"F42/F25\"]\n",
    "        case 'Code':\n",
    "            hue_order = ['MCNP6.2', 'Serpent2']\n",
    "        case None:\n",
    "            hue_order = None \n",
    "    return hue_order\n",
    "\n",
    "def get_palette(hue, order):\n",
    "    match hue:\n",
    "        case 'Library':\n",
    "            sns.set_palette(sns.color_palette(\"Paired\"))\n",
    "            err = sum(['std.' in i for i in order])\n",
    "            palette = [\"C1\", \"C0\", \"C3\", \"C2\", \"C5\", \"C4\", \"C7\", \"C6\", \"C9\", \"C8\", \"C11\", \"C10\"] if err else [\"C1\", \"C3\", \"C5\", \"C7\", \"C9\", \"C11\"]\n",
    "        case _:\n",
    "            sns.set_palette(sns.color_palette(\"husl\", len(order)))\n",
    "            palette = None\n",
    "    return palette"
   ]
  },
  {
   "cell_type": "code",
   "execution_count": 9,
   "id": "e93ed49b-5082-4747-8deb-c0aa9f4f5e67",
   "metadata": {
    "extensions": {
     "jupyter_dashboards": {
      "version": 1,
      "views": {
       "grid_default": {},
       "report_default": {}
      }
     }
    }
   },
   "outputs": [],
   "source": [
    "def single_plot(#Instrument,\n",
    "               Core,\n",
    "               AxialPosition,\n",
    "               Location,\n",
    "#                Coordinates,\n",
    "#                Material,\n",
    "               SpectralIndex,\n",
    "               Library,\n",
    "#                Code,\n",
    "               X, HUE, Y='C/E - 1 [%] and Uncertainty', data_key='AroundZero_and_Uncertainty',\n",
    "               exp_err_bars=True, err=True, title=True, save=False, vertical_lines=True, symmetric=False, save_as=\"\"):\n",
    "\n",
    "    items = {#\"Instrument\": Instrument if Instrument != 'any' else None,\n",
    "              \"Core\": Core if Core  != 'any' else None,\n",
    "              \"AxialPosition\": AxialPosition if AxialPosition != 'any' else None,\n",
    "              \"Location\": Location if Location != 'any' else None,\n",
    "#               \"Coordinates\": Coordinates if Coordinates != 'any' else None,\n",
    "#               \"Material\": Material if Material != 'any' else None,\n",
    "              \"SpectralIndex\": SpectralIndex if SpectralIndex != 'any' else None,\n",
    "              \"Library\": Library if Library != 'any' else None,\n",
    "#               \"Code\": Code if Code != 'any' else None,\n",
    "              }\n",
    "    data_ = data[data_key].copy()\n",
    "    subset = [k for k, v in items.items() if v is not None] + [\"C/E - 1 [%] and Uncertainty\"] + [\"Exp. Uncertainty [%]\"]\n",
    "    \n",
    "    query_str = get_query(items)\n",
    "    \n",
    "    if not err and Library != 'any':\n",
    "        if Library != 'all':\n",
    "            query_str += f\" and Library != '{Library} std.'\" \n",
    "        else:\n",
    "            query_str += \" and Library != 'ENDF/B-VIII.0 std.'\"\n",
    "            query_str += \" and Library != 'JEFF-3.3 std.'\"\n",
    "            query_str += \" and Library != 'JENDL-4.0 std.'\"\n",
    "    \n",
    "    print(query_str)\n",
    "\n",
    "    df = data_[subset].query(query_str)\n",
    "    \n",
    "    hue_order = [i for i in get_order(HUE) if i in df[HUE].unique()]\n",
    "    palette = get_palette(HUE, hue_order)\n",
    "\n",
    "    fig, ax = plt.subplots(figsize=(7, 3), dpi=300, sharex=True)\n",
    "    try:\n",
    "        sns.barplot(data=df,\n",
    "                    x=X,\n",
    "                    y=Y,\n",
    "                    hue=HUE,\n",
    "                    hue_order=hue_order,\n",
    "                    palette=palette,\n",
    "                    ax=ax\n",
    "                    )\n",
    "        plt.xticks(rotation=90)\n",
    "        if exp_err_bars:\n",
    "            ax.errorbar(data=df, x=X, y=df.shape[0] * [0], yerr='Exp. Uncertainty [%]', capsize=4, ecolor='k', color='gray', linewidth=0.7, label=None)\n",
    "        \n",
    "    except IndexError:\n",
    "        raise Exception(\"Index Error: apparently there is no data corresponding to the selection\")\n",
    "    \n",
    "    if title:\n",
    "        ax.set_title(f'C/E of {SpectralIndex} fission rate' + 's' if SpectralIndex == 'all' else '')\n",
    "    \n",
    "    hlines = [0, -5, -10, -15, -20, -25, -30, -35, -40, -45, -50, -55, -60, -65, -70, -75, -80, -85, -90, -95, -100]\n",
    "    if vertical_lines: ax.grid(which='major', axis='x', linestyle='--')\n",
    "    for h in hlines:\n",
    "        if df[\"C/E - 1 [%] and Uncertainty\"].min() <= h:\n",
    "            ax.axhline(h, alpha=0.5, color='grey')\n",
    "            if symmetric: ax.axhline(-h, alpha=0.5, color='grey')\n",
    "    \n",
    "    lgd = plt.legend(bbox_to_anchor=(1, -.4), ncol=3, frameon=False)\n",
    "    if save:\n",
    "        fig.savefig('Plots\\\\' + save_as, bbox_extra_artists=(lgd,), bbox_inches='tight')\n",
    "    return ax"
   ]
  },
  {
   "cell_type": "markdown",
   "id": "2fdc0856",
   "metadata": {
    "extensions": {
     "jupyter_dashboards": {
      "version": 1,
      "views": {
       "grid_default": {},
       "report_default": {}
      }
     }
    },
    "tags": []
   },
   "source": [
    "## Interactive Plot"
   ]
  },
  {
   "cell_type": "code",
   "execution_count": 10,
   "id": "cb716599",
   "metadata": {
    "extensions": {
     "jupyter_dashboards": {
      "version": 1,
      "views": {
       "grid_default": {},
       "report_default": {}
      }
     }
    },
    "scrolled": false
   },
   "outputs": [
    {
     "data": {
      "application/vnd.jupyter.widget-view+json": {
       "model_id": "c2e0730d07804bfcb69318dee13fd714",
       "version_major": 2,
       "version_minor": 0
      },
      "text/plain": [
       "interactive(children=(Dropdown(description='Core', options=('any', 'all', 'A'), value='any'), Dropdown(descrip…"
      ]
     },
     "metadata": {},
     "output_type": "display_data"
    },
    {
     "data": {
      "text/plain": [
       "<function __main__.single_plot(Core, AxialPosition, Location, SpectralIndex, Library, X, HUE, Y='C/E - 1 [%] and Uncertainty', data_key='AroundZero_and_Uncertainty', exp_err_bars=True, err=True, title=True, save=False, vertical_lines=True, symmetric=False, save_as='')>"
      ]
     },
     "execution_count": 10,
     "metadata": {},
     "output_type": "execute_result"
    }
   ],
   "source": [
    "interact(single_plot,\n",
    "         Core=np.append(['any', 'all'], raw.Core.unique()),\n",
    "         AxialPosition=np.append(['any', 'all'], raw.AxialPosition.unique()),\n",
    "         Location=np.append(['any', 'all'], raw.Location.unique()),\n",
    "         SpectralIndex=np.append(['any', 'all'], raw.SpectralIndex.unique()),\n",
    "         Library=np.append(['any', 'all'], raw.Library.unique()),\n",
    "         Y=np.append([None], raw.columns),\n",
    "         X=np.append([None], raw.columns),\n",
    "         HUE=np.append([None], raw.columns),\n",
    "         data_key=data.keys())"
   ]
  },
  {
   "cell_type": "markdown",
   "id": "f8246673-c9a9-4aec-9b23-e3322689e17e",
   "metadata": {
    "extensions": {
     "jupyter_dashboards": {
      "version": 1,
      "views": {
       "grid_default": {},
       "report_default": {}
      }
     }
    },
    "tags": []
   },
   "source": [
    "## VENUS-F configurations and measurements: brief description"
   ]
  },
  {
   "cell_type": "markdown",
   "id": "946b7682",
   "metadata": {},
   "source": [
    "* [CR0/2011](#chapter1)\n",
    "* [CC5](#chapter3)\n",
    "* [CC7](#chapter5)\n",
    "* [CC8](#chapter6)\n",
    "* [CC9](#chapter7)\n",
    "* [CC10](#chapter8)\n",
    "* [CC11](#chapter9)\n",
    "* [CC12](#chapter10)\n",
    "* [CC13](#chapter11)"
   ]
  },
  {
   "cell_type": "markdown",
   "id": "0ac8f968",
   "metadata": {},
   "source": [
    "### CR0 <a class=\"anchor\" id=\"chapter1\"></a>"
   ]
  },
  {
   "cell_type": "markdown",
   "id": "3d536700",
   "metadata": {},
   "source": [
    "Configuration loaded with metallic U fuel and Pb.\n",
    "\n",
    "Measurements performed in E1, E2 and E3 in 2211 and in E2 and E3 in 2014."
   ]
  },
  {
   "cell_type": "markdown",
   "id": "ceed1ec2",
   "metadata": {},
   "source": [
    "![alternative text](DashboardImages/CR0.JPG)"
   ]
  },
  {
   "cell_type": "markdown",
   "id": "702bac78",
   "metadata": {},
   "source": [
    "![alternative text](DashboardImages/CR0Assembly.JPG)"
   ]
  },
  {
   "cell_type": "markdown",
   "id": "f2859b8b",
   "metadata": {},
   "source": [
    "![alternative text](DashboardImages/CR0Spectra.JPG)"
   ]
  },
  {
   "cell_type": "markdown",
   "id": "a9995d9f",
   "metadata": {},
   "source": [
    "### CC5 & CC6 <a class=\"anchor\" id=\"chapter3\"></a>"
   ]
  },
  {
   "cell_type": "markdown",
   "id": "629ad0bd",
   "metadata": {},
   "source": [
    "Configuration loaded with metallic U fuel, Pb snd Al2O3.\n",
    "CC6 consists in the same lattice as CC5 where position (+1, -3) was surrounded by Al2O3 assemblies to represent ALFRED.\n",
    "\n",
    "Measurements performed in (+1, +1) and (+1, -3) in CC5.\n",
    "Measurements performed in (+1, -3) in CC6."
   ]
  },
  {
   "cell_type": "markdown",
   "id": "ba7b0b90",
   "metadata": {},
   "source": [
    "![alternative text](DashboardImages/CC5.JPG)"
   ]
  },
  {
   "cell_type": "markdown",
   "id": "80fe4a4e",
   "metadata": {},
   "source": [
    "![alternative text](DashboardImages/CC5Assembly.JPG)"
   ]
  },
  {
   "cell_type": "markdown",
   "id": "e8f4ed3a",
   "metadata": {},
   "source": [
    "![alternative text](DashboardImages/CC5CC6pectra.JPG)"
   ]
  },
  {
   "cell_type": "markdown",
   "id": "d57cede2",
   "metadata": {},
   "source": [
    "### CC7 <a class=\"anchor\" id=\"chapter5\"></a>"
   ]
  },
  {
   "cell_type": "markdown",
   "id": "92bbacfb",
   "metadata": {},
   "source": [
    "Configuration loaded with metallic U fuel, Pb snd Al2O3.\n",
    "\n",
    "Measurements performed in (-5, +1)."
   ]
  },
  {
   "cell_type": "markdown",
   "id": "433463a6",
   "metadata": {},
   "source": [
    "![alternative text](DashboardImages/CC7.JPG)"
   ]
  },
  {
   "cell_type": "markdown",
   "id": "a3401dac",
   "metadata": {},
   "source": [
    "![alternative text](DashboardImages/CC7Assembly.JPG)"
   ]
  },
  {
   "cell_type": "markdown",
   "id": "f8c54c0d",
   "metadata": {},
   "source": [
    "### CC8 <a class=\"anchor\" id=\"chapter6\"></a>"
   ]
  },
  {
   "cell_type": "markdown",
   "id": "6d767c85",
   "metadata": {},
   "source": [
    "Configuration loaded with metallic U fuel, Pb snd Al2O3.\n",
    "\n",
    "Measurements performed in (+1, +1), (-3, 1), (4, 1), (-4, 1), (-5, 1)."
   ]
  },
  {
   "cell_type": "markdown",
   "id": "a88b290b",
   "metadata": {},
   "source": [
    "![alternative text](DashboardImages/CC8.JPG)"
   ]
  },
  {
   "cell_type": "markdown",
   "id": "f8ff3c87",
   "metadata": {},
   "source": [
    "![alternative text](DashboardImages/CC8Assembly.JPG)"
   ]
  },
  {
   "cell_type": "markdown",
   "id": "704e3613",
   "metadata": {},
   "source": [
    "![alternative text](DashboardImages/CC8Spectra.JPG)"
   ]
  },
  {
   "cell_type": "markdown",
   "id": "830b3e68",
   "metadata": {},
   "source": [
    "### CC9 <a class=\"anchor\" id=\"chapter7\"></a>"
   ]
  },
  {
   "cell_type": "markdown",
   "id": "ba266ab9",
   "metadata": {},
   "source": [
    "Configuration loaded with metallic U fuel, Bi snd Al2O3.\n",
    "\n",
    "Measurements performed in (+1, +1), (1, -3), (2, -5), (2, 1), (2, 1)-voided."
   ]
  },
  {
   "cell_type": "markdown",
   "id": "137ec684",
   "metadata": {},
   "source": [
    "![alternative text](DashboardImages/CC9.JPG)"
   ]
  },
  {
   "cell_type": "markdown",
   "id": "bf9f33e0",
   "metadata": {},
   "source": [
    "![alternative text](DashboardImages/CC9Spectra.JPG)"
   ]
  },
  {
   "cell_type": "markdown",
   "id": "63dbbf12",
   "metadata": {},
   "source": [
    "### CC10 <a class=\"anchor\" id=\"chapter8\"></a>"
   ]
  },
  {
   "cell_type": "markdown",
   "id": "69b5d683",
   "metadata": {},
   "source": [
    "### CC11 <a class=\"anchor\" id=\"chapter9\"></a>"
   ]
  },
  {
   "cell_type": "markdown",
   "id": "9bd2a193",
   "metadata": {},
   "source": [
    "### CC12 <a class=\"anchor\" id=\"chapter10\"></a>"
   ]
  },
  {
   "cell_type": "markdown",
   "id": "d2ae2816",
   "metadata": {},
   "source": [
    "Configuration loaded with metallic U fuel, Bi snd Al2O3.\n",
    "\n",
    "Measurements performed in (+1, +1), (1, -3), (2, -5), (2, 1), (2, 1)-voided."
   ]
  },
  {
   "cell_type": "markdown",
   "id": "9fd85bfd",
   "metadata": {},
   "source": [
    "![alternative text](DashboardImages/CC12.JPG)"
   ]
  },
  {
   "cell_type": "markdown",
   "id": "570066d1",
   "metadata": {},
   "source": [
    "![alternative text](DashboardImages/CC12-IPS.JPG)"
   ]
  },
  {
   "cell_type": "markdown",
   "id": "a7f9b337",
   "metadata": {},
   "source": [
    "### CC13 <a class=\"anchor\" id=\"chapter11\"></a>"
   ]
  }
 ],
 "metadata": {
  "extensions": {
   "jupyter_dashboards": {
    "activeView": "grid_default",
    "version": 1,
    "views": {
     "grid_default": {
      "cellMargin": 10,
      "defaultCellHeight": 20,
      "maxColumns": 12,
      "name": "grid",
      "type": "grid"
     },
     "report_default": {
      "name": "report",
      "type": "report"
     }
    }
   }
  },
  "kernelspec": {
   "display_name": "Python 3 (ipykernel)",
   "language": "python",
   "name": "python3"
  },
  "language_info": {
   "codemirror_mode": {
    "name": "ipython",
    "version": 3
   },
   "file_extension": ".py",
   "mimetype": "text/x-python",
   "name": "python",
   "nbconvert_exporter": "python",
   "pygments_lexer": "ipython3",
   "version": "3.10.9"
  }
 },
 "nbformat": 4,
 "nbformat_minor": 5
}
